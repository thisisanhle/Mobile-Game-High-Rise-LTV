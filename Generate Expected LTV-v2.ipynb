{
 "cells": [
  {
   "cell_type": "code",
   "execution_count": null,
   "metadata": {},
   "outputs": [],
   "source": [
    "# In this Notebook I am going to generate an estimate about the average LTV of players \n",
    "\n",
    "# In general, there are two broad approaches to modelling the LTV problem:\n",
    "# 1-Historical Approach:\n",
    "#   -Aggregate Model  —  calculating the LTV by using the average revenue per player based on past transactions. This method gives us a single value for the TLV.\n",
    "#    -Cohort Model  —  grouping the customers into different cohorts based on the transaction date, etc., and calculate the average revenue per cohort. This method gives TLV value for each cohort.\n",
    "# 2-Predictive Approach:\n",
    "#  -Machine Learning Model  —  using regression techniques to fit on past data to predict the LTV.\n",
    "#  -Probabilistic Model  —  it tries to fit a probability distribution to the data and estimates the future count of transactions and monetary value for each transaction.\n",
    "\n",
    "\n",
    "#  In this Notebook I will use the Probabilistic Model considering two categorical Features (Region and Device)\n",
    "\n",
    "# I will calculate the Estimated LTV using the following formula\n",
    "# Expected LTV =average player lifespan x average transactions per period x average transaction amount ($)\n",
    "\n",
    "# This Notebook will be presented as follows:\n",
    "# I- Importing Data and Cleaning\n",
    "# II- Exploring Data and Features \n",
    "# III- Data Aggregation\n",
    "# IV- Estimating LTV\n",
    "# V- Conclusion"
   ]
  },
  {
   "cell_type": "code",
   "execution_count": 2,
   "metadata": {},
   "outputs": [],
   "source": [
    "# I- Import Data"
   ]
  },
  {
   "cell_type": "code",
   "execution_count": 97,
   "metadata": {},
   "outputs": [],
   "source": [
    "import pandas as pd\n",
    "import numpy as np\n",
    "import matplotlib.pyplot as plt\n",
    "import pickle\n",
    "import statsmodels.api as sm"
   ]
  },
  {
   "cell_type": "code",
   "execution_count": 57,
   "metadata": {},
   "outputs": [
    {
     "data": {
      "text/html": [
       "<div>\n",
       "<style scoped>\n",
       "    .dataframe tbody tr th:only-of-type {\n",
       "        vertical-align: middle;\n",
       "    }\n",
       "\n",
       "    .dataframe tbody tr th {\n",
       "        vertical-align: top;\n",
       "    }\n",
       "\n",
       "    .dataframe thead th {\n",
       "        text-align: right;\n",
       "    }\n",
       "</style>\n",
       "<table border=\"1\" class=\"dataframe\">\n",
       "  <thead>\n",
       "    <tr style=\"text-align: right;\">\n",
       "      <th></th>\n",
       "      <th>Unnamed: 0</th>\n",
       "      <th>player_id</th>\n",
       "      <th>iap_amt</th>\n",
       "      <th>iap_dt</th>\n",
       "    </tr>\n",
       "  </thead>\n",
       "  <tbody>\n",
       "    <tr>\n",
       "      <th>0</th>\n",
       "      <td>0</td>\n",
       "      <td>6467b385-589e-482b-8826-3cda30ba5f69</td>\n",
       "      <td>2.0</td>\n",
       "      <td>1/13/2020</td>\n",
       "    </tr>\n",
       "    <tr>\n",
       "      <th>1</th>\n",
       "      <td>1</td>\n",
       "      <td>6467b385-589e-482b-8826-3cda30ba5f69</td>\n",
       "      <td>1.9</td>\n",
       "      <td>1/15/2020</td>\n",
       "    </tr>\n",
       "    <tr>\n",
       "      <th>2</th>\n",
       "      <td>2</td>\n",
       "      <td>6467b385-589e-482b-8826-3cda30ba5f69</td>\n",
       "      <td>1.4</td>\n",
       "      <td>1/20/2020</td>\n",
       "    </tr>\n",
       "    <tr>\n",
       "      <th>3</th>\n",
       "      <td>3</td>\n",
       "      <td>6467b385-589e-482b-8826-3cda30ba5f69</td>\n",
       "      <td>6.8</td>\n",
       "      <td>1/27/2020</td>\n",
       "    </tr>\n",
       "    <tr>\n",
       "      <th>4</th>\n",
       "      <td>4</td>\n",
       "      <td>6467b385-589e-482b-8826-3cda30ba5f69</td>\n",
       "      <td>4.3</td>\n",
       "      <td>1/30/2020</td>\n",
       "    </tr>\n",
       "  </tbody>\n",
       "</table>\n",
       "</div>"
      ],
      "text/plain": [
       "   Unnamed: 0                             player_id  iap_amt     iap_dt\n",
       "0           0  6467b385-589e-482b-8826-3cda30ba5f69      2.0  1/13/2020\n",
       "1           1  6467b385-589e-482b-8826-3cda30ba5f69      1.9  1/15/2020\n",
       "2           2  6467b385-589e-482b-8826-3cda30ba5f69      1.4  1/20/2020\n",
       "3           3  6467b385-589e-482b-8826-3cda30ba5f69      6.8  1/27/2020\n",
       "4           4  6467b385-589e-482b-8826-3cda30ba5f69      4.3  1/30/2020"
      ]
     },
     "execution_count": 57,
     "metadata": {},
     "output_type": "execute_result"
    }
   ],
   "source": [
    "iap_Df = pd.read_csv (r'iap_table.csv')\n",
    "iap_Df.head()"
   ]
  },
  {
   "cell_type": "code",
   "execution_count": 61,
   "metadata": {},
   "outputs": [],
   "source": [
    "# View data for Cleaning purpose"
   ]
  },
  {
   "cell_type": "code",
   "execution_count": 59,
   "metadata": {},
   "outputs": [
    {
     "data": {
      "text/html": [
       "<div>\n",
       "<style scoped>\n",
       "    .dataframe tbody tr th:only-of-type {\n",
       "        vertical-align: middle;\n",
       "    }\n",
       "\n",
       "    .dataframe tbody tr th {\n",
       "        vertical-align: top;\n",
       "    }\n",
       "\n",
       "    .dataframe thead th {\n",
       "        text-align: right;\n",
       "    }\n",
       "</style>\n",
       "<table border=\"1\" class=\"dataframe\">\n",
       "  <thead>\n",
       "    <tr style=\"text-align: right;\">\n",
       "      <th></th>\n",
       "      <th>Unnamed: 0</th>\n",
       "      <th>player_id</th>\n",
       "      <th>geo_region</th>\n",
       "      <th>device_type</th>\n",
       "      <th>install_dt</th>\n",
       "    </tr>\n",
       "  </thead>\n",
       "  <tbody>\n",
       "    <tr>\n",
       "      <th>0</th>\n",
       "      <td>0</td>\n",
       "      <td>6467b385-589e-482b-8826-3cda30ba5f69</td>\n",
       "      <td>NAm</td>\n",
       "      <td>iphone</td>\n",
       "      <td>1/7/2020</td>\n",
       "    </tr>\n",
       "    <tr>\n",
       "      <th>1</th>\n",
       "      <td>1</td>\n",
       "      <td>ecdcfde8-fdf4-4954-8bda-0489d22e0416</td>\n",
       "      <td>NAm</td>\n",
       "      <td>iphone</td>\n",
       "      <td>12/13/2020</td>\n",
       "    </tr>\n",
       "    <tr>\n",
       "      <th>2</th>\n",
       "      <td>2</td>\n",
       "      <td>3eb13468-6a4e-4baa-9251-f914629e0d80</td>\n",
       "      <td>NAm</td>\n",
       "      <td>iphone</td>\n",
       "      <td>2/13/2021</td>\n",
       "    </tr>\n",
       "    <tr>\n",
       "      <th>3</th>\n",
       "      <td>3</td>\n",
       "      <td>3356c5af-c149-4e08-9771-8a6b8bd5268f</td>\n",
       "      <td>NAm</td>\n",
       "      <td>iphone</td>\n",
       "      <td>1/12/2020</td>\n",
       "    </tr>\n",
       "    <tr>\n",
       "      <th>4</th>\n",
       "      <td>4</td>\n",
       "      <td>8d42632b-b9e7-4d98-8f91-0a09847d8cbf</td>\n",
       "      <td>NAm</td>\n",
       "      <td>iphone</td>\n",
       "      <td>5/29/2020</td>\n",
       "    </tr>\n",
       "  </tbody>\n",
       "</table>\n",
       "</div>"
      ],
      "text/plain": [
       "   Unnamed: 0                             player_id geo_region device_type  \\\n",
       "0           0  6467b385-589e-482b-8826-3cda30ba5f69        NAm      iphone   \n",
       "1           1  ecdcfde8-fdf4-4954-8bda-0489d22e0416        NAm      iphone   \n",
       "2           2  3eb13468-6a4e-4baa-9251-f914629e0d80        NAm      iphone   \n",
       "3           3  3356c5af-c149-4e08-9771-8a6b8bd5268f        NAm      iphone   \n",
       "4           4  8d42632b-b9e7-4d98-8f91-0a09847d8cbf        NAm      iphone   \n",
       "\n",
       "   install_dt  \n",
       "0    1/7/2020  \n",
       "1  12/13/2020  \n",
       "2   2/13/2021  \n",
       "3   1/12/2020  \n",
       "4   5/29/2020  "
      ]
     },
     "execution_count": 59,
     "metadata": {},
     "output_type": "execute_result"
    }
   ],
   "source": [
    "player_Df = pd.read_csv (r'players_table.csv')\n",
    "player_Df.head()"
   ]
  },
  {
   "cell_type": "code",
   "execution_count": 60,
   "metadata": {},
   "outputs": [
    {
     "data": {
      "text/plain": [
       "73595"
      ]
     },
     "execution_count": 60,
     "metadata": {},
     "output_type": "execute_result"
    }
   ],
   "source": [
    "#number of players\n",
    "player_Df['player_id'].nunique()"
   ]
  },
  {
   "cell_type": "code",
   "execution_count": 62,
   "metadata": {},
   "outputs": [
    {
     "name": "stdout",
     "output_type": "stream",
     "text": [
      "Unnamed: 0     0\n",
      "player_id      0\n",
      "geo_region     0\n",
      "device_type    0\n",
      "install_dt     0\n",
      "dtype: int64\n"
     ]
    }
   ],
   "source": [
    "print(player_Df.isnull().sum())"
   ]
  },
  {
   "cell_type": "code",
   "execution_count": 63,
   "metadata": {},
   "outputs": [
    {
     "name": "stdout",
     "output_type": "stream",
     "text": [
      "Unnamed: 0    0\n",
      "player_id     0\n",
      "iap_amt       0\n",
      "iap_dt        0\n",
      "dtype: int64\n"
     ]
    }
   ],
   "source": [
    "print(iap_Df.isnull().sum())"
   ]
  },
  {
   "cell_type": "code",
   "execution_count": 64,
   "metadata": {},
   "outputs": [
    {
     "data": {
      "text/plain": [
       "1277"
      ]
     },
     "execution_count": 64,
     "metadata": {},
     "output_type": "execute_result"
    }
   ],
   "source": [
    "# Check if all Players had an in app purchase\n",
    "iap_Df['player_id'].nunique()"
   ]
  },
  {
   "cell_type": "code",
   "execution_count": null,
   "metadata": {},
   "outputs": [],
   "source": [
    "### it is obvious that most of the players are not in-app-purchase"
   ]
  },
  {
   "cell_type": "code",
   "execution_count": null,
   "metadata": {},
   "outputs": [],
   "source": [
    "# II- Exploring Data and Features Effect"
   ]
  },
  {
   "cell_type": "code",
   "execution_count": 65,
   "metadata": {},
   "outputs": [],
   "source": [
    "## Select Usefull Data and Variables"
   ]
  },
  {
   "cell_type": "code",
   "execution_count": 58,
   "metadata": {},
   "outputs": [
    {
     "data": {
      "text/html": [
       "<div>\n",
       "<style scoped>\n",
       "    .dataframe tbody tr th:only-of-type {\n",
       "        vertical-align: middle;\n",
       "    }\n",
       "\n",
       "    .dataframe tbody tr th {\n",
       "        vertical-align: top;\n",
       "    }\n",
       "\n",
       "    .dataframe thead th {\n",
       "        text-align: right;\n",
       "    }\n",
       "</style>\n",
       "<table border=\"1\" class=\"dataframe\">\n",
       "  <thead>\n",
       "    <tr style=\"text-align: right;\">\n",
       "      <th></th>\n",
       "      <th>Unnamed: 0</th>\n",
       "      <th>iap_amt</th>\n",
       "    </tr>\n",
       "  </thead>\n",
       "  <tbody>\n",
       "    <tr>\n",
       "      <th>count</th>\n",
       "      <td>13788.000000</td>\n",
       "      <td>13788.000000</td>\n",
       "    </tr>\n",
       "    <tr>\n",
       "      <th>mean</th>\n",
       "      <td>7084.260226</td>\n",
       "      <td>13.886728</td>\n",
       "    </tr>\n",
       "    <tr>\n",
       "      <th>std</th>\n",
       "      <td>4189.588005</td>\n",
       "      <td>57.737482</td>\n",
       "    </tr>\n",
       "    <tr>\n",
       "      <th>min</th>\n",
       "      <td>0.000000</td>\n",
       "      <td>1.000000</td>\n",
       "    </tr>\n",
       "    <tr>\n",
       "      <th>25%</th>\n",
       "      <td>3446.750000</td>\n",
       "      <td>1.400000</td>\n",
       "    </tr>\n",
       "    <tr>\n",
       "      <th>50%</th>\n",
       "      <td>6893.500000</td>\n",
       "      <td>2.200000</td>\n",
       "    </tr>\n",
       "    <tr>\n",
       "      <th>75%</th>\n",
       "      <td>10849.250000</td>\n",
       "      <td>4.900000</td>\n",
       "    </tr>\n",
       "    <tr>\n",
       "      <th>max</th>\n",
       "      <td>14353.000000</td>\n",
       "      <td>500.000000</td>\n",
       "    </tr>\n",
       "  </tbody>\n",
       "</table>\n",
       "</div>"
      ],
      "text/plain": [
       "         Unnamed: 0       iap_amt\n",
       "count  13788.000000  13788.000000\n",
       "mean    7084.260226     13.886728\n",
       "std     4189.588005     57.737482\n",
       "min        0.000000      1.000000\n",
       "25%     3446.750000      1.400000\n",
       "50%     6893.500000      2.200000\n",
       "75%    10849.250000      4.900000\n",
       "max    14353.000000    500.000000"
      ]
     },
     "execution_count": 58,
     "metadata": {},
     "output_type": "execute_result"
    }
   ],
   "source": [
    "iap_Df.describe()"
   ]
  },
  {
   "cell_type": "code",
   "execution_count": 66,
   "metadata": {},
   "outputs": [
    {
     "data": {
      "text/html": [
       "<div>\n",
       "<style scoped>\n",
       "    .dataframe tbody tr th:only-of-type {\n",
       "        vertical-align: middle;\n",
       "    }\n",
       "\n",
       "    .dataframe tbody tr th {\n",
       "        vertical-align: top;\n",
       "    }\n",
       "\n",
       "    .dataframe thead th {\n",
       "        text-align: right;\n",
       "    }\n",
       "</style>\n",
       "<table border=\"1\" class=\"dataframe\">\n",
       "  <thead>\n",
       "    <tr style=\"text-align: right;\">\n",
       "      <th></th>\n",
       "      <th>Unnamed: 0</th>\n",
       "      <th>player_id</th>\n",
       "      <th>iap_amt</th>\n",
       "      <th>iap_dt</th>\n",
       "    </tr>\n",
       "  </thead>\n",
       "  <tbody>\n",
       "    <tr>\n",
       "      <th>0</th>\n",
       "      <td>0</td>\n",
       "      <td>6467b385-589e-482b-8826-3cda30ba5f69</td>\n",
       "      <td>2.0</td>\n",
       "      <td>1/13/2020</td>\n",
       "    </tr>\n",
       "    <tr>\n",
       "      <th>1</th>\n",
       "      <td>1</td>\n",
       "      <td>6467b385-589e-482b-8826-3cda30ba5f69</td>\n",
       "      <td>1.9</td>\n",
       "      <td>1/15/2020</td>\n",
       "    </tr>\n",
       "    <tr>\n",
       "      <th>2</th>\n",
       "      <td>2</td>\n",
       "      <td>6467b385-589e-482b-8826-3cda30ba5f69</td>\n",
       "      <td>1.4</td>\n",
       "      <td>1/20/2020</td>\n",
       "    </tr>\n",
       "    <tr>\n",
       "      <th>3</th>\n",
       "      <td>3</td>\n",
       "      <td>6467b385-589e-482b-8826-3cda30ba5f69</td>\n",
       "      <td>6.8</td>\n",
       "      <td>1/27/2020</td>\n",
       "    </tr>\n",
       "    <tr>\n",
       "      <th>4</th>\n",
       "      <td>4</td>\n",
       "      <td>6467b385-589e-482b-8826-3cda30ba5f69</td>\n",
       "      <td>4.3</td>\n",
       "      <td>1/30/2020</td>\n",
       "    </tr>\n",
       "  </tbody>\n",
       "</table>\n",
       "</div>"
      ],
      "text/plain": [
       "   Unnamed: 0                             player_id  iap_amt     iap_dt\n",
       "0           0  6467b385-589e-482b-8826-3cda30ba5f69      2.0  1/13/2020\n",
       "1           1  6467b385-589e-482b-8826-3cda30ba5f69      1.9  1/15/2020\n",
       "2           2  6467b385-589e-482b-8826-3cda30ba5f69      1.4  1/20/2020\n",
       "3           3  6467b385-589e-482b-8826-3cda30ba5f69      6.8  1/27/2020\n",
       "4           4  6467b385-589e-482b-8826-3cda30ba5f69      4.3  1/30/2020"
      ]
     },
     "execution_count": 66,
     "metadata": {},
     "output_type": "execute_result"
    }
   ],
   "source": [
    "iap_Df.head()"
   ]
  },
  {
   "cell_type": "code",
   "execution_count": 69,
   "metadata": {},
   "outputs": [
    {
     "data": {
      "text/html": [
       "<div>\n",
       "<style scoped>\n",
       "    .dataframe tbody tr th:only-of-type {\n",
       "        vertical-align: middle;\n",
       "    }\n",
       "\n",
       "    .dataframe tbody tr th {\n",
       "        vertical-align: top;\n",
       "    }\n",
       "\n",
       "    .dataframe thead th {\n",
       "        text-align: right;\n",
       "    }\n",
       "</style>\n",
       "<table border=\"1\" class=\"dataframe\">\n",
       "  <thead>\n",
       "    <tr style=\"text-align: right;\">\n",
       "      <th></th>\n",
       "      <th>player_id</th>\n",
       "      <th>iap_amt</th>\n",
       "      <th>iap_dt</th>\n",
       "      <th>cum_sum</th>\n",
       "    </tr>\n",
       "  </thead>\n",
       "  <tbody>\n",
       "    <tr>\n",
       "      <th>2610</th>\n",
       "      <td>c875ecaa-6fae-4904-8e63-3b6cad7cd036</td>\n",
       "      <td>9.6</td>\n",
       "      <td>2021-01-24</td>\n",
       "      <td>64.3</td>\n",
       "    </tr>\n",
       "    <tr>\n",
       "      <th>11163</th>\n",
       "      <td>9d8b8118-c0fe-4cd4-9a65-95c27f37ba46</td>\n",
       "      <td>93.9</td>\n",
       "      <td>2020-06-03</td>\n",
       "      <td>95.0</td>\n",
       "    </tr>\n",
       "    <tr>\n",
       "      <th>11290</th>\n",
       "      <td>7824642e-cb7f-4a84-b157-6733b6baf4a8</td>\n",
       "      <td>15.2</td>\n",
       "      <td>2020-05-29</td>\n",
       "      <td>847.7</td>\n",
       "    </tr>\n",
       "    <tr>\n",
       "      <th>12758</th>\n",
       "      <td>6f251b1d-4e2a-4a90-b90b-aff1437cf18c</td>\n",
       "      <td>1.6</td>\n",
       "      <td>2020-03-26</td>\n",
       "      <td>4.7</td>\n",
       "    </tr>\n",
       "    <tr>\n",
       "      <th>3970</th>\n",
       "      <td>28c3dc54-d094-4ba7-8c4e-c58353fb2154</td>\n",
       "      <td>1.2</td>\n",
       "      <td>2020-12-20</td>\n",
       "      <td>427.8</td>\n",
       "    </tr>\n",
       "  </tbody>\n",
       "</table>\n",
       "</div>"
      ],
      "text/plain": [
       "                                  player_id  iap_amt     iap_dt  cum_sum\n",
       "2610   c875ecaa-6fae-4904-8e63-3b6cad7cd036      9.6 2021-01-24     64.3\n",
       "11163  9d8b8118-c0fe-4cd4-9a65-95c27f37ba46     93.9 2020-06-03     95.0\n",
       "11290  7824642e-cb7f-4a84-b157-6733b6baf4a8     15.2 2020-05-29    847.7\n",
       "12758  6f251b1d-4e2a-4a90-b90b-aff1437cf18c      1.6 2020-03-26      4.7\n",
       "3970   28c3dc54-d094-4ba7-8c4e-c58353fb2154      1.2 2020-12-20    427.8"
      ]
     },
     "execution_count": 69,
     "metadata": {},
     "output_type": "execute_result"
    }
   ],
   "source": [
    "## 1std find Cumulative sum for each Player in app purchase table\n",
    "iap_Df['iap_dt'] = pd.to_datetime(iap_Df['iap_dt'])\n",
    "cum_sum_Df=iap_Df.sort_values(['iap_dt'],ascending=False).reset_index(drop=True)\n",
    "cum_sum_Df[\"cum_sum\"]=cum_sum_Df.groupby(['player_id'])['iap_amt'].cumsum(axis=0)\n",
    "cum_sum_Df.drop(['Unnamed: 0'], axis = 1, inplace = True)\n",
    "cum_sum_Df.sample(5)"
   ]
  },
  {
   "cell_type": "code",
   "execution_count": 70,
   "metadata": {},
   "outputs": [
    {
     "data": {
      "text/html": [
       "<div>\n",
       "<style scoped>\n",
       "    .dataframe tbody tr th:only-of-type {\n",
       "        vertical-align: middle;\n",
       "    }\n",
       "\n",
       "    .dataframe tbody tr th {\n",
       "        vertical-align: top;\n",
       "    }\n",
       "\n",
       "    .dataframe thead th {\n",
       "        text-align: right;\n",
       "    }\n",
       "</style>\n",
       "<table border=\"1\" class=\"dataframe\">\n",
       "  <thead>\n",
       "    <tr style=\"text-align: right;\">\n",
       "      <th></th>\n",
       "      <th>player_id</th>\n",
       "      <th>geo_region</th>\n",
       "      <th>device_type</th>\n",
       "      <th>install_dt</th>\n",
       "      <th>iap_amt</th>\n",
       "      <th>iap_dt</th>\n",
       "      <th>cum_sum</th>\n",
       "    </tr>\n",
       "  </thead>\n",
       "  <tbody>\n",
       "    <tr>\n",
       "      <th>48873</th>\n",
       "      <td>c4b435c0-39bc-46c6-9a78-4f646c3a8e80</td>\n",
       "      <td>NAm</td>\n",
       "      <td>android</td>\n",
       "      <td>2020-07-01</td>\n",
       "      <td>0.0</td>\n",
       "      <td>2020-07-01</td>\n",
       "      <td>0.0</td>\n",
       "    </tr>\n",
       "    <tr>\n",
       "      <th>68417</th>\n",
       "      <td>0f2df732-0174-4fca-93d9-00883e46dc0b</td>\n",
       "      <td>Europe</td>\n",
       "      <td>android</td>\n",
       "      <td>2020-06-16</td>\n",
       "      <td>0.0</td>\n",
       "      <td>2020-06-16</td>\n",
       "      <td>0.0</td>\n",
       "    </tr>\n",
       "    <tr>\n",
       "      <th>11617</th>\n",
       "      <td>6e17b348-2253-4a7b-88c6-2e58b7fac0d5</td>\n",
       "      <td>NAm</td>\n",
       "      <td>iphone</td>\n",
       "      <td>2020-12-19</td>\n",
       "      <td>0.0</td>\n",
       "      <td>2020-12-19</td>\n",
       "      <td>0.0</td>\n",
       "    </tr>\n",
       "    <tr>\n",
       "      <th>14191</th>\n",
       "      <td>1e4f6bc4-9b6a-4e3b-a41a-6ed3050c7d3a</td>\n",
       "      <td>Europe</td>\n",
       "      <td>iphone</td>\n",
       "      <td>2020-05-14</td>\n",
       "      <td>2.6</td>\n",
       "      <td>2021-03-24</td>\n",
       "      <td>2.6</td>\n",
       "    </tr>\n",
       "    <tr>\n",
       "      <th>55540</th>\n",
       "      <td>5847c50d-494a-4e09-af93-6a423cfbd659</td>\n",
       "      <td>JapanPlus</td>\n",
       "      <td>android</td>\n",
       "      <td>2020-07-22</td>\n",
       "      <td>0.0</td>\n",
       "      <td>2020-07-22</td>\n",
       "      <td>0.0</td>\n",
       "    </tr>\n",
       "  </tbody>\n",
       "</table>\n",
       "</div>"
      ],
      "text/plain": [
       "                                  player_id geo_region device_type install_dt  \\\n",
       "48873  c4b435c0-39bc-46c6-9a78-4f646c3a8e80        NAm     android 2020-07-01   \n",
       "68417  0f2df732-0174-4fca-93d9-00883e46dc0b     Europe     android 2020-06-16   \n",
       "11617  6e17b348-2253-4a7b-88c6-2e58b7fac0d5        NAm      iphone 2020-12-19   \n",
       "14191  1e4f6bc4-9b6a-4e3b-a41a-6ed3050c7d3a     Europe      iphone 2020-05-14   \n",
       "55540  5847c50d-494a-4e09-af93-6a423cfbd659  JapanPlus     android 2020-07-22   \n",
       "\n",
       "       iap_amt     iap_dt  cum_sum  \n",
       "48873      0.0 2020-07-01      0.0  \n",
       "68417      0.0 2020-06-16      0.0  \n",
       "11617      0.0 2020-12-19      0.0  \n",
       "14191      2.6 2021-03-24      2.6  \n",
       "55540      0.0 2020-07-22      0.0  "
      ]
     },
     "execution_count": 70,
     "metadata": {},
     "output_type": "execute_result"
    }
   ],
   "source": [
    "# 2nd join player data with purchase data and fill player cum som with no purchases by zero's\n",
    "cum_sum_Df = player_Df.merge(cum_sum_Df,how='left', left_on=['player_id'], right_on=['player_id'])\n",
    "cum_sum_Df['cum_sum'] = cum_sum_Df['cum_sum'].fillna(0)\n",
    "cum_sum_Df['iap_amt'] = cum_sum_Df['iap_amt'].fillna(0)\n",
    "cum_sum_Df['iap_dt'] = cum_sum_Df['iap_dt'].fillna(0)\n",
    "cum_sum_Df['iap_dt'] = cum_sum_Df.apply(lambda row : row['install_dt'] if row['iap_dt']==0 else row['iap_dt'],axis=1)\n",
    "cum_sum_Df.drop(['Unnamed: 0'], axis = 1, inplace = True)\n",
    "cum_sum_Df['install_dt'] = pd.to_datetime(cum_sum_Df['install_dt'])\n",
    "cum_sum_Df['iap_dt'] = pd.to_datetime(cum_sum_Df['iap_dt'])\n",
    "cum_sum_Df.sample(5)"
   ]
  },
  {
   "cell_type": "code",
   "execution_count": 71,
   "metadata": {},
   "outputs": [],
   "source": [
    "## Data Exploration"
   ]
  },
  {
   "cell_type": "code",
   "execution_count": 72,
   "metadata": {},
   "outputs": [],
   "source": [
    "#1st view purchase effect across region and devices"
   ]
  },
  {
   "cell_type": "code",
   "execution_count": 42,
   "metadata": {},
   "outputs": [
    {
     "data": {
      "text/html": [
       "<div>\n",
       "<style scoped>\n",
       "    .dataframe tbody tr th:only-of-type {\n",
       "        vertical-align: middle;\n",
       "    }\n",
       "\n",
       "    .dataframe tbody tr th {\n",
       "        vertical-align: top;\n",
       "    }\n",
       "\n",
       "    .dataframe thead th {\n",
       "        text-align: right;\n",
       "    }\n",
       "</style>\n",
       "<table border=\"1\" class=\"dataframe\">\n",
       "  <thead>\n",
       "    <tr style=\"text-align: right;\">\n",
       "      <th></th>\n",
       "      <th>iap_dt</th>\n",
       "      <th>geo_region</th>\n",
       "      <th>iap_amt</th>\n",
       "      <th>cum_sum</th>\n",
       "    </tr>\n",
       "  </thead>\n",
       "  <tbody>\n",
       "    <tr>\n",
       "      <th>1847</th>\n",
       "      <td>2021-03-13</td>\n",
       "      <td>JapanPlus</td>\n",
       "      <td>14.466667</td>\n",
       "      <td>37.700000</td>\n",
       "    </tr>\n",
       "    <tr>\n",
       "      <th>594</th>\n",
       "      <td>2020-05-28</td>\n",
       "      <td>NAm</td>\n",
       "      <td>0.892453</td>\n",
       "      <td>11.543396</td>\n",
       "    </tr>\n",
       "    <tr>\n",
       "      <th>1282</th>\n",
       "      <td>2020-11-16</td>\n",
       "      <td>NAm</td>\n",
       "      <td>0.935484</td>\n",
       "      <td>38.727419</td>\n",
       "    </tr>\n",
       "    <tr>\n",
       "      <th>519</th>\n",
       "      <td>2020-05-09</td>\n",
       "      <td>ROW</td>\n",
       "      <td>0.570000</td>\n",
       "      <td>17.738000</td>\n",
       "    </tr>\n",
       "    <tr>\n",
       "      <th>425</th>\n",
       "      <td>2020-04-16</td>\n",
       "      <td>JapanPlus</td>\n",
       "      <td>0.214286</td>\n",
       "      <td>3.133333</td>\n",
       "    </tr>\n",
       "  </tbody>\n",
       "</table>\n",
       "</div>"
      ],
      "text/plain": [
       "         iap_dt geo_region    iap_amt    cum_sum\n",
       "1847 2021-03-13  JapanPlus  14.466667  37.700000\n",
       "594  2020-05-28        NAm   0.892453  11.543396\n",
       "1282 2020-11-16        NAm   0.935484  38.727419\n",
       "519  2020-05-09        ROW   0.570000  17.738000\n",
       "425  2020-04-16  JapanPlus   0.214286   3.133333"
      ]
     },
     "execution_count": 42,
     "metadata": {},
     "output_type": "execute_result"
    }
   ],
   "source": [
    "# region effect on purchases\n",
    "geo_sum_Df=cum_sum_Df.sort_values(['iap_dt'],ascending=False).reset_index(drop=True)\n",
    "geo_sum_Df=geo_sum_Df.groupby(['iap_dt','geo_region'],as_index=False).mean()\n",
    "geo_sum_Df.sample(5)\n"
   ]
  },
  {
   "cell_type": "code",
   "execution_count": 18,
   "metadata": {},
   "outputs": [
    {
     "data": {
      "text/plain": [
       "Text(0, 0.5, 'Avg Cumsum - axis')"
      ]
     },
     "execution_count": 18,
     "metadata": {},
     "output_type": "execute_result"
    },
    {
     "data": {
      "image/png": "[encoded data removed]",
      "text/plain": [
       "<Figure size 432x288 with 5 Axes>"
      ]
     },
     "metadata": {
      "needs_background": "light"
     },
     "output_type": "display_data"
    }
   ],
   "source": [
    "# plot the graphs\n",
    "fig, axs = plt.subplots(geo_sum_Df['geo_region'].nunique())\n",
    "fig.suptitle('Region Average cumsum')\n",
    "\n",
    "for i,region in enumerate(geo_sum_Df['geo_region'].unique()):\n",
    "    x=geo_sum_Df[geo_sum_Df['geo_region']==region]['iap_dt']\n",
    "    y=geo_sum_Df[geo_sum_Df['geo_region']==region]['cum_sum']\n",
    "    # plotting the region line  points \n",
    "    axs[i].plot(x, y, label = region)\n",
    "    axs[i].label= region\n",
    "    axs[i].legend()\n",
    "\n",
    "plt.xticks(rotation='vertical')\n",
    "plt.xlabel('Date - axis')\n",
    "plt.ylabel('Avg Cumsum - axis')\n"
   ]
  },
  {
   "cell_type": "code",
   "execution_count": null,
   "metadata": {},
   "outputs": [],
   "source": [
    "### from the Graphs we can conclude that some regions affectings purchases more than others and mostly after 2021-02"
   ]
  },
  {
   "cell_type": "code",
   "execution_count": 43,
   "metadata": {},
   "outputs": [
    {
     "data": {
      "text/html": [
       "<div>\n",
       "<style scoped>\n",
       "    .dataframe tbody tr th:only-of-type {\n",
       "        vertical-align: middle;\n",
       "    }\n",
       "\n",
       "    .dataframe tbody tr th {\n",
       "        vertical-align: top;\n",
       "    }\n",
       "\n",
       "    .dataframe thead th {\n",
       "        text-align: right;\n",
       "    }\n",
       "</style>\n",
       "<table border=\"1\" class=\"dataframe\">\n",
       "  <thead>\n",
       "    <tr style=\"text-align: right;\">\n",
       "      <th></th>\n",
       "      <th>iap_dt</th>\n",
       "      <th>device_type</th>\n",
       "      <th>iap_amt</th>\n",
       "      <th>cum_sum</th>\n",
       "    </tr>\n",
       "  </thead>\n",
       "  <tbody>\n",
       "    <tr>\n",
       "      <th>575</th>\n",
       "      <td>2020-10-14</td>\n",
       "      <td>iphone</td>\n",
       "      <td>9.444737</td>\n",
       "      <td>159.278070</td>\n",
       "    </tr>\n",
       "    <tr>\n",
       "      <th>812</th>\n",
       "      <td>2021-02-10</td>\n",
       "      <td>android</td>\n",
       "      <td>0.277500</td>\n",
       "      <td>1.945000</td>\n",
       "    </tr>\n",
       "    <tr>\n",
       "      <th>207</th>\n",
       "      <td>2020-04-13</td>\n",
       "      <td>iphone</td>\n",
       "      <td>2.782353</td>\n",
       "      <td>183.829412</td>\n",
       "    </tr>\n",
       "    <tr>\n",
       "      <th>640</th>\n",
       "      <td>2020-11-16</td>\n",
       "      <td>android</td>\n",
       "      <td>0.253704</td>\n",
       "      <td>5.723148</td>\n",
       "    </tr>\n",
       "    <tr>\n",
       "      <th>771</th>\n",
       "      <td>2021-01-20</td>\n",
       "      <td>iphone</td>\n",
       "      <td>13.821818</td>\n",
       "      <td>122.761818</td>\n",
       "    </tr>\n",
       "  </tbody>\n",
       "</table>\n",
       "</div>"
      ],
      "text/plain": [
       "        iap_dt device_type    iap_amt     cum_sum\n",
       "575 2020-10-14      iphone   9.444737  159.278070\n",
       "812 2021-02-10     android   0.277500    1.945000\n",
       "207 2020-04-13      iphone   2.782353  183.829412\n",
       "640 2020-11-16     android   0.253704    5.723148\n",
       "771 2021-01-20      iphone  13.821818  122.761818"
      ]
     },
     "execution_count": 43,
     "metadata": {},
     "output_type": "execute_result"
    }
   ],
   "source": [
    "# Device Type Effect on purchases\n",
    "dev_sum_Df=cum_sum_Df.sort_values(['iap_dt'],ascending=False).reset_index(drop=True)\n",
    "dev_sum_Df=dev_sum_Df.groupby(['iap_dt','device_type'],as_index=False).mean()\n",
    "dev_sum_Df.sample(5)"
   ]
  },
  {
   "cell_type": "code",
   "execution_count": 20,
   "metadata": {},
   "outputs": [
    {
     "data": {
      "text/plain": [
       "Text(0, 0.5, 'Avg Cumsum - axis')"
      ]
     },
     "execution_count": 20,
     "metadata": {},
     "output_type": "execute_result"
    },
    {
     "data": {
      "image/png": "[encoded data removed]",
      "text/plain": [
       "<Figure size 432x288 with 2 Axes>"
      ]
     },
     "metadata": {
      "needs_background": "light"
     },
     "output_type": "display_data"
    }
   ],
   "source": [
    "# \n",
    "fig, axs = plt.subplots(dev_sum_Df['device_type'].nunique())\n",
    "fig.suptitle('Device Average cumsum of purchases')\n",
    "\n",
    "for i,region in enumerate(dev_sum_Df['device_type'].unique()):\n",
    "    x=dev_sum_Df[dev_sum_Df['device_type']==region]['iap_dt']\n",
    "    y=dev_sum_Df[dev_sum_Df['device_type']==region]['cum_sum']\n",
    "    # plotting the region line  points \n",
    "    axs[i].plot(x, y, label = region)\n",
    "    axs[i].label= region\n",
    "    axs[i].legend()\n",
    "    plt.xticks(rotation='vertical')\n",
    "\n",
    "\n",
    "plt.xlabel('Date - axis')\n",
    "plt.ylabel('Avg Cumsum - axis')"
   ]
  },
  {
   "cell_type": "code",
   "execution_count": null,
   "metadata": {},
   "outputs": [],
   "source": [
    "### Referring to the previous graph it is obvious that device type affects the in purchase sum"
   ]
  },
  {
   "cell_type": "code",
   "execution_count": null,
   "metadata": {},
   "outputs": [],
   "source": [
    "## Lets collect useful features into one table "
   ]
  },
  {
   "cell_type": "code",
   "execution_count": null,
   "metadata": {},
   "outputs": [],
   "source": [
    "#1-average customer lifespan\n",
    "#2-average transactions per period\n",
    "#3- transaction amount ($)\n",
    "#Knowing these three factors, we can simply multiply them together to calculate lifetime value."
   ]
  },
  {
   "cell_type": "code",
   "execution_count": 24,
   "metadata": {},
   "outputs": [
    {
     "data": {
      "text/plain": [
       "array(['iphone', 'android'], dtype=object)"
      ]
     },
     "execution_count": 24,
     "metadata": {},
     "output_type": "execute_result"
    }
   ],
   "source": [
    "cum_sum_Df['device_type'].unique()"
   ]
  },
  {
   "cell_type": "code",
   "execution_count": 73,
   "metadata": {},
   "outputs": [
    {
     "data": {
      "text/html": [
       "<div>\n",
       "<style scoped>\n",
       "    .dataframe tbody tr th:only-of-type {\n",
       "        vertical-align: middle;\n",
       "    }\n",
       "\n",
       "    .dataframe tbody tr th {\n",
       "        vertical-align: top;\n",
       "    }\n",
       "\n",
       "    .dataframe thead th {\n",
       "        text-align: right;\n",
       "    }\n",
       "</style>\n",
       "<table border=\"1\" class=\"dataframe\">\n",
       "  <thead>\n",
       "    <tr style=\"text-align: right;\">\n",
       "      <th></th>\n",
       "      <th>player_id</th>\n",
       "      <th>geo_region</th>\n",
       "      <th>device_type</th>\n",
       "      <th>install_dt</th>\n",
       "      <th>iap_amt</th>\n",
       "      <th>iap_dt</th>\n",
       "      <th>cum_sum</th>\n",
       "    </tr>\n",
       "  </thead>\n",
       "  <tbody>\n",
       "    <tr>\n",
       "      <th>13996</th>\n",
       "      <td>15a24012-0457-4549-a55e-974d0053b19f</td>\n",
       "      <td>NAm</td>\n",
       "      <td>iphone</td>\n",
       "      <td>2020-04-27</td>\n",
       "      <td>0.0</td>\n",
       "      <td>2020-04-27</td>\n",
       "      <td>0.0</td>\n",
       "    </tr>\n",
       "    <tr>\n",
       "      <th>77540</th>\n",
       "      <td>680bdf7b-e60b-4396-9a38-87215aa85edf</td>\n",
       "      <td>ROW</td>\n",
       "      <td>android</td>\n",
       "      <td>2020-04-07</td>\n",
       "      <td>0.0</td>\n",
       "      <td>2020-04-07</td>\n",
       "      <td>0.0</td>\n",
       "    </tr>\n",
       "    <tr>\n",
       "      <th>71522</th>\n",
       "      <td>9138387c-bfd6-49f7-9051-8e15a0787e82</td>\n",
       "      <td>Europe</td>\n",
       "      <td>android</td>\n",
       "      <td>2020-04-10</td>\n",
       "      <td>0.0</td>\n",
       "      <td>2020-04-10</td>\n",
       "      <td>0.0</td>\n",
       "    </tr>\n",
       "    <tr>\n",
       "      <th>6448</th>\n",
       "      <td>170b8745-b735-450e-acab-3d267e4a558d</td>\n",
       "      <td>NAm</td>\n",
       "      <td>iphone</td>\n",
       "      <td>2020-11-13</td>\n",
       "      <td>0.0</td>\n",
       "      <td>2020-11-13</td>\n",
       "      <td>0.0</td>\n",
       "    </tr>\n",
       "    <tr>\n",
       "      <th>59471</th>\n",
       "      <td>51c438c8-f48c-46eb-baf2-413ce0455247</td>\n",
       "      <td>JapanPlus</td>\n",
       "      <td>android</td>\n",
       "      <td>2020-11-02</td>\n",
       "      <td>0.0</td>\n",
       "      <td>2020-11-02</td>\n",
       "      <td>0.0</td>\n",
       "    </tr>\n",
       "  </tbody>\n",
       "</table>\n",
       "</div>"
      ],
      "text/plain": [
       "                                  player_id geo_region device_type install_dt  \\\n",
       "13996  15a24012-0457-4549-a55e-974d0053b19f        NAm      iphone 2020-04-27   \n",
       "77540  680bdf7b-e60b-4396-9a38-87215aa85edf        ROW     android 2020-04-07   \n",
       "71522  9138387c-bfd6-49f7-9051-8e15a0787e82     Europe     android 2020-04-10   \n",
       "6448   170b8745-b735-450e-acab-3d267e4a558d        NAm      iphone 2020-11-13   \n",
       "59471  51c438c8-f48c-46eb-baf2-413ce0455247  JapanPlus     android 2020-11-02   \n",
       "\n",
       "       iap_amt     iap_dt  cum_sum  \n",
       "13996      0.0 2020-04-27      0.0  \n",
       "77540      0.0 2020-04-07      0.0  \n",
       "71522      0.0 2020-04-10      0.0  \n",
       "6448       0.0 2020-11-13      0.0  \n",
       "59471      0.0 2020-11-02      0.0  "
      ]
     },
     "execution_count": 73,
     "metadata": {},
     "output_type": "execute_result"
    }
   ],
   "source": [
    "# lets convert device type and geo region into categoical values\n",
    "\n",
    "device_type = pd.Categorical(cum_sum_Df['device_type'],\n",
    "                           categories=cum_sum_Df['device_type'].unique(), ordered=True)\n",
    "cum_sum_Df['device_type'] = device_type\n",
    "\n",
    "geo_region = pd.Categorical(cum_sum_Df['geo_region'],\n",
    "                           categories=cum_sum_Df['geo_region'].unique(), ordered=True)\n",
    "cum_sum_Df['geo_region'] = geo_region\n",
    "\n",
    "cum_sum_Df.sample(5)"
   ]
  },
  {
   "cell_type": "code",
   "execution_count": null,
   "metadata": {},
   "outputs": [],
   "source": [
    "# Converting Date to month Cohorts\n",
    "#The easiest way to do this is to convert the iap_dt column to a transaction month that just outputs the month that the transaction took place."
   ]
  },
  {
   "cell_type": "code",
   "execution_count": 77,
   "metadata": {},
   "outputs": [],
   "source": [
    "date_mapper = {\n",
    "    date: pd.to_datetime(date).month for date in cum_sum_Df['iap_dt'].unique()\n",
    "}\n",
    "month = cum_sum_Df['iap_dt'].map(date_mapper)\n",
    "cum_sum_Df['iap_month'] = month\n"
   ]
  },
  {
   "cell_type": "code",
   "execution_count": 277,
   "metadata": {},
   "outputs": [
    {
     "data": {
      "text/html": [
       "<div>\n",
       "<style scoped>\n",
       "    .dataframe tbody tr th:only-of-type {\n",
       "        vertical-align: middle;\n",
       "    }\n",
       "\n",
       "    .dataframe tbody tr th {\n",
       "        vertical-align: top;\n",
       "    }\n",
       "\n",
       "    .dataframe thead th {\n",
       "        text-align: right;\n",
       "    }\n",
       "</style>\n",
       "<table border=\"1\" class=\"dataframe\">\n",
       "  <thead>\n",
       "    <tr style=\"text-align: right;\">\n",
       "      <th></th>\n",
       "      <th>player_id</th>\n",
       "      <th>geo_region</th>\n",
       "      <th>device_type</th>\n",
       "      <th>install_dt</th>\n",
       "      <th>iap_amt</th>\n",
       "      <th>iap_dt</th>\n",
       "      <th>cum_sum</th>\n",
       "      <th>month</th>\n",
       "      <th>iap_month</th>\n",
       "    </tr>\n",
       "  </thead>\n",
       "  <tbody>\n",
       "    <tr>\n",
       "      <th>0</th>\n",
       "      <td>6467b385-589e-482b-8826-3cda30ba5f69</td>\n",
       "      <td>NAm</td>\n",
       "      <td>iphone</td>\n",
       "      <td>2020-01-07</td>\n",
       "      <td>2.5</td>\n",
       "      <td>2020-02-23</td>\n",
       "      <td>2.5</td>\n",
       "      <td>2</td>\n",
       "      <td>2</td>\n",
       "    </tr>\n",
       "    <tr>\n",
       "      <th>1</th>\n",
       "      <td>6467b385-589e-482b-8826-3cda30ba5f69</td>\n",
       "      <td>NAm</td>\n",
       "      <td>iphone</td>\n",
       "      <td>2020-01-07</td>\n",
       "      <td>9.1</td>\n",
       "      <td>2020-02-22</td>\n",
       "      <td>11.6</td>\n",
       "      <td>2</td>\n",
       "      <td>2</td>\n",
       "    </tr>\n",
       "    <tr>\n",
       "      <th>2</th>\n",
       "      <td>6467b385-589e-482b-8826-3cda30ba5f69</td>\n",
       "      <td>NAm</td>\n",
       "      <td>iphone</td>\n",
       "      <td>2020-01-07</td>\n",
       "      <td>10.6</td>\n",
       "      <td>2020-02-20</td>\n",
       "      <td>22.2</td>\n",
       "      <td>2</td>\n",
       "      <td>2</td>\n",
       "    </tr>\n",
       "    <tr>\n",
       "      <th>3</th>\n",
       "      <td>6467b385-589e-482b-8826-3cda30ba5f69</td>\n",
       "      <td>NAm</td>\n",
       "      <td>iphone</td>\n",
       "      <td>2020-01-07</td>\n",
       "      <td>1.1</td>\n",
       "      <td>2020-02-16</td>\n",
       "      <td>23.3</td>\n",
       "      <td>2</td>\n",
       "      <td>2</td>\n",
       "    </tr>\n",
       "    <tr>\n",
       "      <th>4</th>\n",
       "      <td>6467b385-589e-482b-8826-3cda30ba5f69</td>\n",
       "      <td>NAm</td>\n",
       "      <td>iphone</td>\n",
       "      <td>2020-01-07</td>\n",
       "      <td>1.3</td>\n",
       "      <td>2020-02-02</td>\n",
       "      <td>24.6</td>\n",
       "      <td>2</td>\n",
       "      <td>2</td>\n",
       "    </tr>\n",
       "  </tbody>\n",
       "</table>\n",
       "</div>"
      ],
      "text/plain": [
       "                              player_id geo_region device_type install_dt  \\\n",
       "0  6467b385-589e-482b-8826-3cda30ba5f69        NAm      iphone 2020-01-07   \n",
       "1  6467b385-589e-482b-8826-3cda30ba5f69        NAm      iphone 2020-01-07   \n",
       "2  6467b385-589e-482b-8826-3cda30ba5f69        NAm      iphone 2020-01-07   \n",
       "3  6467b385-589e-482b-8826-3cda30ba5f69        NAm      iphone 2020-01-07   \n",
       "4  6467b385-589e-482b-8826-3cda30ba5f69        NAm      iphone 2020-01-07   \n",
       "\n",
       "   iap_amt     iap_dt  cum_sum  month  iap_month  \n",
       "0      2.5 2020-02-23      2.5      2          2  \n",
       "1      9.1 2020-02-22     11.6      2          2  \n",
       "2     10.6 2020-02-20     22.2      2          2  \n",
       "3      1.1 2020-02-16     23.3      2          2  \n",
       "4      1.3 2020-02-02     24.6      2          2  "
      ]
     },
     "execution_count": 277,
     "metadata": {},
     "output_type": "execute_result"
    }
   ],
   "source": [
    "cum_sum_Df.head(5)"
   ]
  },
  {
   "cell_type": "code",
   "execution_count": null,
   "metadata": {},
   "outputs": [],
   "source": [
    "# Now, we can organize, filter, and manipulate our data using the iap_month."
   ]
  },
  {
   "cell_type": "code",
   "execution_count": null,
   "metadata": {},
   "outputs": [],
   "source": [
    "#Ranking  Categories"
   ]
  },
  {
   "cell_type": "code",
   "execution_count": null,
   "metadata": {},
   "outputs": [],
   "source": [
    "# we have  to consider that a player can use several devices and play from several countries"
   ]
  },
  {
   "cell_type": "code",
   "execution_count": 90,
   "metadata": {},
   "outputs": [
    {
     "name": "stdout",
     "output_type": "stream",
     "text": [
      "ROW          47\n",
      "LatAm         0\n",
      "JapanPlus     0\n",
      "Europe        0\n",
      "NAm           0\n",
      "Name: geo_region, dtype: int64\n",
      "ROW\n",
      "iphone     47\n",
      "android     0\n",
      "Name: device_type, dtype: int64\n",
      "iphone\n"
     ]
    }
   ],
   "source": [
    "# example of specific customer used ctegory info\n",
    "print(cum_sum_Df.loc[cum_sum_Df.player_id == '0001de24-b022-45b9-9c84-403a9934b01e']['geo_region'].value_counts())\n",
    "print(cum_sum_Df.loc[cum_sum_Df.player_id == '0001de24-b022-45b9-9c84-403a9934b01e']['geo_region'].sort_values().iloc[0])\n",
    "print(cum_sum_Df.loc[cum_sum_Df.player_id == '0001de24-b022-45b9-9c84-403a9934b01e']['device_type'].value_counts())\n",
    "print(cum_sum_Df.loc[cum_sum_Df.player_id == '0001de24-b022-45b9-9c84-403a9934b01e']['device_type'].sort_values().iloc[0])"
   ]
  },
  {
   "cell_type": "code",
   "execution_count": null,
   "metadata": {},
   "outputs": [],
   "source": [
    "#To demonstrate how we’ll use this, let’s identify a player based on their highest value within Catigory. "
   ]
  },
  {
   "cell_type": "code",
   "execution_count": 94,
   "metadata": {},
   "outputs": [],
   "source": [
    "def highest_cat(p_id, df=cum_sum_Df,cat='geo_region'):\n",
    "    cat = df.loc[df.player_id == p_id][cat].sort_values().iloc[0]\n",
    "    return cat\n",
    "\n",
    "reg_mapper = {\n",
    "    player_id: highest_cat(player_id,cum_sum_Df,cat='geo_region') for player_id in cum_sum_Df['player_id'].unique()\n",
    "}\n"
   ]
  },
  {
   "cell_type": "code",
   "execution_count": 95,
   "metadata": {},
   "outputs": [],
   "source": [
    "dev_mapper = {\n",
    "    player_id: highest_cat(player_id,cum_sum_Df,cat='device_type') for player_id in cum_sum_Df['player_id'].unique()\n",
    "}"
   ]
  },
  {
   "cell_type": "code",
   "execution_count": 98,
   "metadata": {},
   "outputs": [],
   "source": [
    "# save data for unexpected problems\n",
    "with open('mappers.pickle', 'wb') as f:\n",
    "    pickle.dump([reg_mapper,dev_mapper], f)"
   ]
  },
  {
   "cell_type": "code",
   "execution_count": 96,
   "metadata": {},
   "outputs": [],
   "source": [
    "# III- Data Agregation"
   ]
  },
  {
   "cell_type": "code",
   "execution_count": null,
   "metadata": {},
   "outputs": [],
   "source": [
    "## reload data"
   ]
  },
  {
   "cell_type": "code",
   "execution_count": 104,
   "metadata": {},
   "outputs": [],
   "source": [
    "with open('mappers.pickle', 'rb') as f:\n",
    "    reg_mapper,dev_mapper = pickle.load(f)"
   ]
  },
  {
   "cell_type": "code",
   "execution_count": null,
   "metadata": {},
   "outputs": [],
   "source": [
    "#In short, we’ve made a new dataframe  that has an index of each unique player id\n",
    "#and columns consisting of the total transaction amount, the total number of transactions,\n",
    "#and the unique months in which a transaction was made for each player."
   ]
  },
  {
   "cell_type": "code",
   "execution_count": 99,
   "metadata": {},
   "outputs": [],
   "source": [
    "player_data_df = cum_sum_Df.groupby(['player_id']).agg({\n",
    "        'iap_amt': ['sum', 'count'],\n",
    "        'iap_month': [pd.Series.nunique]\n",
    "    })"
   ]
  },
  {
   "cell_type": "code",
   "execution_count": 105,
   "metadata": {},
   "outputs": [],
   "source": [
    "player_data_df['most_region'] = player_data_df.index.map(reg_mapper)\n",
    "player_data_df['most_dev'] = player_data_df.index.map(dev_mapper)"
   ]
  },
  {
   "cell_type": "code",
   "execution_count": 106,
   "metadata": {},
   "outputs": [],
   "source": [
    "### Then, we can create new columns for lifespan, avg_trn_per_mth, and avg_trn_amt for each of our players:"
   ]
  },
  {
   "cell_type": "code",
   "execution_count": 108,
   "metadata": {},
   "outputs": [
    {
     "data": {
      "text/html": [
       "<div>\n",
       "<style scoped>\n",
       "    .dataframe tbody tr th:only-of-type {\n",
       "        vertical-align: middle;\n",
       "    }\n",
       "\n",
       "    .dataframe tbody tr th {\n",
       "        vertical-align: top;\n",
       "    }\n",
       "\n",
       "    .dataframe thead tr th {\n",
       "        text-align: left;\n",
       "    }\n",
       "\n",
       "    .dataframe thead tr:last-of-type th {\n",
       "        text-align: right;\n",
       "    }\n",
       "</style>\n",
       "<table border=\"1\" class=\"dataframe\">\n",
       "  <thead>\n",
       "    <tr>\n",
       "      <th></th>\n",
       "      <th colspan=\"2\" halign=\"left\">iap_amt</th>\n",
       "      <th>iap_month</th>\n",
       "      <th>most_region</th>\n",
       "      <th>most_dev</th>\n",
       "    </tr>\n",
       "    <tr>\n",
       "      <th></th>\n",
       "      <th>sum</th>\n",
       "      <th>count</th>\n",
       "      <th>nunique</th>\n",
       "      <th></th>\n",
       "      <th></th>\n",
       "    </tr>\n",
       "    <tr>\n",
       "      <th>player_id</th>\n",
       "      <th></th>\n",
       "      <th></th>\n",
       "      <th></th>\n",
       "      <th></th>\n",
       "      <th></th>\n",
       "    </tr>\n",
       "  </thead>\n",
       "  <tbody>\n",
       "    <tr>\n",
       "      <th>0001734a-66e8-44a1-bcea-703876804b2a</th>\n",
       "      <td>0.0</td>\n",
       "      <td>1</td>\n",
       "      <td>1</td>\n",
       "      <td>ROW</td>\n",
       "      <td>iphone</td>\n",
       "    </tr>\n",
       "    <tr>\n",
       "      <th>0001de24-b022-45b9-9c84-403a9934b01e</th>\n",
       "      <td>441.7</td>\n",
       "      <td>47</td>\n",
       "      <td>11</td>\n",
       "      <td>ROW</td>\n",
       "      <td>iphone</td>\n",
       "    </tr>\n",
       "    <tr>\n",
       "      <th>0001fffa-837a-461e-8aef-1e8223155f25</th>\n",
       "      <td>0.0</td>\n",
       "      <td>1</td>\n",
       "      <td>1</td>\n",
       "      <td>NAm</td>\n",
       "      <td>android</td>\n",
       "    </tr>\n",
       "    <tr>\n",
       "      <th>0002a7ad-1a4a-499d-b6ed-b370bcc9340f</th>\n",
       "      <td>0.0</td>\n",
       "      <td>1</td>\n",
       "      <td>1</td>\n",
       "      <td>Europe</td>\n",
       "      <td>android</td>\n",
       "    </tr>\n",
       "    <tr>\n",
       "      <th>0003024c-b5c7-45cd-806e-ff96bac90245</th>\n",
       "      <td>0.0</td>\n",
       "      <td>1</td>\n",
       "      <td>1</td>\n",
       "      <td>JapanPlus</td>\n",
       "      <td>android</td>\n",
       "    </tr>\n",
       "  </tbody>\n",
       "</table>\n",
       "</div>"
      ],
      "text/plain": [
       "                                     iap_amt       iap_month most_region  \\\n",
       "                                         sum count   nunique               \n",
       "player_id                                                                  \n",
       "0001734a-66e8-44a1-bcea-703876804b2a     0.0     1         1         ROW   \n",
       "0001de24-b022-45b9-9c84-403a9934b01e   441.7    47        11         ROW   \n",
       "0001fffa-837a-461e-8aef-1e8223155f25     0.0     1         1         NAm   \n",
       "0002a7ad-1a4a-499d-b6ed-b370bcc9340f     0.0     1         1      Europe   \n",
       "0003024c-b5c7-45cd-806e-ff96bac90245     0.0     1         1   JapanPlus   \n",
       "\n",
       "                                     most_dev  \n",
       "                                               \n",
       "player_id                                      \n",
       "0001734a-66e8-44a1-bcea-703876804b2a   iphone  \n",
       "0001de24-b022-45b9-9c84-403a9934b01e   iphone  \n",
       "0001fffa-837a-461e-8aef-1e8223155f25  android  \n",
       "0002a7ad-1a4a-499d-b6ed-b370bcc9340f  android  \n",
       "0003024c-b5c7-45cd-806e-ff96bac90245  android  "
      ]
     },
     "execution_count": 108,
     "metadata": {},
     "output_type": "execute_result"
    }
   ],
   "source": [
    "player_data_df.head()"
   ]
  },
  {
   "cell_type": "code",
   "execution_count": 109,
   "metadata": {},
   "outputs": [],
   "source": [
    "player_data_df['lifespan'] = player_data_df[('iap_month', 'nunique')]\n",
    "player_data_df['avg_trn_per_mth'] = player_data_df[('iap_amt', 'count')] / player_data_df['lifespan']\n",
    "player_data_df['avg_trn_amt'] = player_data_df[('iap_amt', 'sum')] / player_data_df[('iap_amt', 'count')]"
   ]
  },
  {
   "cell_type": "code",
   "execution_count": 151,
   "metadata": {},
   "outputs": [
    {
     "data": {
      "text/html": [
       "<div>\n",
       "<style scoped>\n",
       "    .dataframe tbody tr th:only-of-type {\n",
       "        vertical-align: middle;\n",
       "    }\n",
       "\n",
       "    .dataframe tbody tr th {\n",
       "        vertical-align: top;\n",
       "    }\n",
       "\n",
       "    .dataframe thead tr th {\n",
       "        text-align: left;\n",
       "    }\n",
       "\n",
       "    .dataframe thead tr:last-of-type th {\n",
       "        text-align: right;\n",
       "    }\n",
       "</style>\n",
       "<table border=\"1\" class=\"dataframe\">\n",
       "  <thead>\n",
       "    <tr>\n",
       "      <th></th>\n",
       "      <th colspan=\"2\" halign=\"left\">iap_amt</th>\n",
       "      <th>iap_month</th>\n",
       "      <th>most_region</th>\n",
       "      <th>most_dev</th>\n",
       "      <th>lifespan</th>\n",
       "      <th>avg_trn_per_mth</th>\n",
       "      <th>avg_trn_amt</th>\n",
       "    </tr>\n",
       "    <tr>\n",
       "      <th></th>\n",
       "      <th>sum</th>\n",
       "      <th>count</th>\n",
       "      <th>nunique</th>\n",
       "      <th></th>\n",
       "      <th></th>\n",
       "      <th></th>\n",
       "      <th></th>\n",
       "      <th></th>\n",
       "    </tr>\n",
       "    <tr>\n",
       "      <th>player_id</th>\n",
       "      <th></th>\n",
       "      <th></th>\n",
       "      <th></th>\n",
       "      <th></th>\n",
       "      <th></th>\n",
       "      <th></th>\n",
       "      <th></th>\n",
       "      <th></th>\n",
       "    </tr>\n",
       "  </thead>\n",
       "  <tbody>\n",
       "    <tr>\n",
       "      <th>0001734a-66e8-44a1-bcea-703876804b2a</th>\n",
       "      <td>0.0</td>\n",
       "      <td>1</td>\n",
       "      <td>1</td>\n",
       "      <td>ROW</td>\n",
       "      <td>iphone</td>\n",
       "      <td>1</td>\n",
       "      <td>1.000000</td>\n",
       "      <td>0.000000</td>\n",
       "    </tr>\n",
       "    <tr>\n",
       "      <th>0001de24-b022-45b9-9c84-403a9934b01e</th>\n",
       "      <td>441.7</td>\n",
       "      <td>47</td>\n",
       "      <td>11</td>\n",
       "      <td>ROW</td>\n",
       "      <td>iphone</td>\n",
       "      <td>11</td>\n",
       "      <td>4.272727</td>\n",
       "      <td>9.397872</td>\n",
       "    </tr>\n",
       "    <tr>\n",
       "      <th>0001fffa-837a-461e-8aef-1e8223155f25</th>\n",
       "      <td>0.0</td>\n",
       "      <td>1</td>\n",
       "      <td>1</td>\n",
       "      <td>NAm</td>\n",
       "      <td>android</td>\n",
       "      <td>1</td>\n",
       "      <td>1.000000</td>\n",
       "      <td>0.000000</td>\n",
       "    </tr>\n",
       "    <tr>\n",
       "      <th>0002a7ad-1a4a-499d-b6ed-b370bcc9340f</th>\n",
       "      <td>0.0</td>\n",
       "      <td>1</td>\n",
       "      <td>1</td>\n",
       "      <td>Europe</td>\n",
       "      <td>android</td>\n",
       "      <td>1</td>\n",
       "      <td>1.000000</td>\n",
       "      <td>0.000000</td>\n",
       "    </tr>\n",
       "    <tr>\n",
       "      <th>0003024c-b5c7-45cd-806e-ff96bac90245</th>\n",
       "      <td>0.0</td>\n",
       "      <td>1</td>\n",
       "      <td>1</td>\n",
       "      <td>JapanPlus</td>\n",
       "      <td>android</td>\n",
       "      <td>1</td>\n",
       "      <td>1.000000</td>\n",
       "      <td>0.000000</td>\n",
       "    </tr>\n",
       "  </tbody>\n",
       "</table>\n",
       "</div>"
      ],
      "text/plain": [
       "                                     iap_amt       iap_month most_region  \\\n",
       "                                         sum count   nunique               \n",
       "player_id                                                                  \n",
       "0001734a-66e8-44a1-bcea-703876804b2a     0.0     1         1         ROW   \n",
       "0001de24-b022-45b9-9c84-403a9934b01e   441.7    47        11         ROW   \n",
       "0001fffa-837a-461e-8aef-1e8223155f25     0.0     1         1         NAm   \n",
       "0002a7ad-1a4a-499d-b6ed-b370bcc9340f     0.0     1         1      Europe   \n",
       "0003024c-b5c7-45cd-806e-ff96bac90245     0.0     1         1   JapanPlus   \n",
       "\n",
       "                                     most_dev lifespan avg_trn_per_mth  \\\n",
       "                                                                         \n",
       "player_id                                                                \n",
       "0001734a-66e8-44a1-bcea-703876804b2a   iphone        1        1.000000   \n",
       "0001de24-b022-45b9-9c84-403a9934b01e   iphone       11        4.272727   \n",
       "0001fffa-837a-461e-8aef-1e8223155f25  android        1        1.000000   \n",
       "0002a7ad-1a4a-499d-b6ed-b370bcc9340f  android        1        1.000000   \n",
       "0003024c-b5c7-45cd-806e-ff96bac90245  android        1        1.000000   \n",
       "\n",
       "                                     avg_trn_amt  \n",
       "                                                  \n",
       "player_id                                         \n",
       "0001734a-66e8-44a1-bcea-703876804b2a    0.000000  \n",
       "0001de24-b022-45b9-9c84-403a9934b01e    9.397872  \n",
       "0001fffa-837a-461e-8aef-1e8223155f25    0.000000  \n",
       "0002a7ad-1a4a-499d-b6ed-b370bcc9340f    0.000000  \n",
       "0003024c-b5c7-45cd-806e-ff96bac90245    0.000000  "
      ]
     },
     "execution_count": 151,
     "metadata": {},
     "output_type": "execute_result"
    }
   ],
   "source": [
    "player_data_df.head()"
   ]
  },
  {
   "cell_type": "code",
   "execution_count": 112,
   "metadata": {},
   "outputs": [],
   "source": [
    "#### The avg_trn_per_mth column is the count of transactions per player divided by their lifespan.\n",
    "#### For example, if a player made 20 transactions in their lifetime and had a lifespan of 4 months, they make on average 5 transactions per month."
   ]
  },
  {
   "cell_type": "code",
   "execution_count": 113,
   "metadata": {},
   "outputs": [],
   "source": [
    "# IV- Estimating LTV for New Users"
   ]
  },
  {
   "cell_type": "code",
   "execution_count": null,
   "metadata": {},
   "outputs": [],
   "source": [
    "# We have already organized our dataframe to include the lifespan, average transactions per month, and average transaction amount for each of our players.\n",
    "# Calculating the lifetime value is now as simple as taking the average of each of those columns and multiplying them together."
   ]
  },
  {
   "cell_type": "code",
   "execution_count": 252,
   "metadata": {},
   "outputs": [],
   "source": [
    "def ltv(df,cat_dev=None,cat_reg=None):\n",
    "    if cat_dev and cat_reg:\n",
    "        df = df.loc[(df['most_dev'] == cat_dev) & (df['most_region'] == cat_reg) ]\n",
    "    ltv_dict = {\n",
    "          'avg_lifespan': round(df['lifespan'].mean(), 1),\n",
    "          'avg_trn_per_mth': round(df['avg_trn_per_mth'].mean(), 1),\n",
    "          'avg_trn_amt': round(df['avg_trn_amt'].mean(), 2),\n",
    "          'ltv': None\n",
    "      }\n",
    "    # Calculate Estimated LTV\n",
    "    ltv_dict['ltv'] = round(ltv_dict['avg_lifespan'] * ltv_dict['avg_trn_per_mth'] * ltv_dict['avg_trn_amt'], 2)\n",
    "    # calculating the Confidence interval \n",
    "    se=pd.Series.sem((df['lifespan']*df['avg_trn_per_mth']*df['avg_trn_amt']))\n",
    "    ltv_dict['lower_CI']= ltv_dict['ltv'] - 1.96 *se\n",
    "    ltv_dict['upper_CI']= ltv_dict['ltv']+ 1.96* se\n",
    "    return ltv_dict"
   ]
  },
  {
   "cell_type": "code",
   "execution_count": 253,
   "metadata": {},
   "outputs": [],
   "source": [
    "## Confidence interval\n",
    "## Confidence interval= mean +|- Z_Score * Standard_Error\n",
    "## z-score for a 95% confidence interval for a large enough sample is 1.96\n",
    "## Standard_Error= SD/sqrt(number of observations)\n"
   ]
  },
  {
   "cell_type": "code",
   "execution_count": 254,
   "metadata": {},
   "outputs": [
    {
     "name": "stdout",
     "output_type": "stream",
     "text": [
      "The lifetime value of our android plyers from US and Canada is: 0.21\n"
     ]
    }
   ],
   "source": [
    "ltv_all = ltv(player_data_df)\n",
    "ltv_android_NAm = ltv(player_data_df)\n",
    "print(f\"The lifetime value of our android plyers from US and Canada is: {ltv_android_NAm['ltv']}\")"
   ]
  },
  {
   "cell_type": "code",
   "execution_count": 255,
   "metadata": {},
   "outputs": [],
   "source": [
    "# Generate Output Table"
   ]
  },
  {
   "cell_type": "code",
   "execution_count": 275,
   "metadata": {},
   "outputs": [],
   "source": [
    "regions= player_data_df['most_region'].unique()\n",
    "devices= player_data_df['most_dev'].unique()\n",
    "LTV_list=[]\n",
    "reg_list=[]\n",
    "dev_list=[]\n",
    "LTV_Upper_list=[]\n",
    "LTV_Lower_list=[]\n",
    "for reg in regions:\n",
    "    for dev in devices:\n",
    "        dic_ltv=ltv(player_data_df, dev,reg)\n",
    "        LTV_list.append(dic_ltv['ltv'])\n",
    "        LTV_Upper_list.append(dic_ltv['upper_CI'])\n",
    "        LTV_Lower_list.append(dic_ltv['lower_CI'])\n",
    "        reg_list.append(reg)\n",
    "        dev_list.append(dev)\n",
    "\n",
    "\n",
    "results = pd.DataFrame(data={'device_type':dev_list,'georegion':reg_list, \n",
    "                             'LTV':LTV_list,'Upper_CI':LTV_Upper_list,'Lower_CI':LTV_Lower_list})\n",
    "results[['device_type','georegion','LTV']].to_csv(r'file_results.csv', index = False, header = True)"
   ]
  },
  {
   "cell_type": "code",
   "execution_count": 278,
   "metadata": {
    "scrolled": true
   },
   "outputs": [
    {
     "data": {
      "text/html": [
       "<div>\n",
       "<style scoped>\n",
       "    .dataframe tbody tr th:only-of-type {\n",
       "        vertical-align: middle;\n",
       "    }\n",
       "\n",
       "    .dataframe tbody tr th {\n",
       "        vertical-align: top;\n",
       "    }\n",
       "\n",
       "    .dataframe thead th {\n",
       "        text-align: right;\n",
       "    }\n",
       "</style>\n",
       "<table border=\"1\" class=\"dataframe\">\n",
       "  <thead>\n",
       "    <tr style=\"text-align: right;\">\n",
       "      <th></th>\n",
       "      <th>device_type</th>\n",
       "      <th>georegion</th>\n",
       "      <th>LTV</th>\n",
       "      <th>Upper_CI</th>\n",
       "    </tr>\n",
       "  </thead>\n",
       "  <tbody>\n",
       "    <tr>\n",
       "      <th>0</th>\n",
       "      <td>iphone</td>\n",
       "      <td>ROW</td>\n",
       "      <td>0.19</td>\n",
       "      <td>1.413246</td>\n",
       "    </tr>\n",
       "    <tr>\n",
       "      <th>1</th>\n",
       "      <td>android</td>\n",
       "      <td>ROW</td>\n",
       "      <td>0.02</td>\n",
       "      <td>0.059614</td>\n",
       "    </tr>\n",
       "    <tr>\n",
       "      <th>2</th>\n",
       "      <td>iphone</td>\n",
       "      <td>NAm</td>\n",
       "      <td>0.59</td>\n",
       "      <td>1.871391</td>\n",
       "    </tr>\n",
       "    <tr>\n",
       "      <th>3</th>\n",
       "      <td>android</td>\n",
       "      <td>NAm</td>\n",
       "      <td>0.20</td>\n",
       "      <td>0.554155</td>\n",
       "    </tr>\n",
       "    <tr>\n",
       "      <th>4</th>\n",
       "      <td>iphone</td>\n",
       "      <td>Europe</td>\n",
       "      <td>0.42</td>\n",
       "      <td>3.905900</td>\n",
       "    </tr>\n",
       "    <tr>\n",
       "      <th>5</th>\n",
       "      <td>android</td>\n",
       "      <td>Europe</td>\n",
       "      <td>0.26</td>\n",
       "      <td>1.076023</td>\n",
       "    </tr>\n",
       "    <tr>\n",
       "      <th>6</th>\n",
       "      <td>iphone</td>\n",
       "      <td>JapanPlus</td>\n",
       "      <td>0.25</td>\n",
       "      <td>1.605546</td>\n",
       "    </tr>\n",
       "    <tr>\n",
       "      <th>7</th>\n",
       "      <td>android</td>\n",
       "      <td>JapanPlus</td>\n",
       "      <td>0.05</td>\n",
       "      <td>0.191579</td>\n",
       "    </tr>\n",
       "    <tr>\n",
       "      <th>8</th>\n",
       "      <td>iphone</td>\n",
       "      <td>LatAm</td>\n",
       "      <td>0.31</td>\n",
       "      <td>4.235128</td>\n",
       "    </tr>\n",
       "    <tr>\n",
       "      <th>9</th>\n",
       "      <td>android</td>\n",
       "      <td>LatAm</td>\n",
       "      <td>0.02</td>\n",
       "      <td>0.069123</td>\n",
       "    </tr>\n",
       "  </tbody>\n",
       "</table>\n",
       "</div>"
      ],
      "text/plain": [
       "  device_type  georegion   LTV  Upper_CI\n",
       "0      iphone        ROW  0.19  1.413246\n",
       "1     android        ROW  0.02  0.059614\n",
       "2      iphone        NAm  0.59  1.871391\n",
       "3     android        NAm  0.20  0.554155\n",
       "4      iphone     Europe  0.42  3.905900\n",
       "5     android     Europe  0.26  1.076023\n",
       "6      iphone  JapanPlus  0.25  1.605546\n",
       "7     android  JapanPlus  0.05  0.191579\n",
       "8      iphone      LatAm  0.31  4.235128\n",
       "9     android      LatAm  0.02  0.069123"
      ]
     },
     "execution_count": 278,
     "metadata": {},
     "output_type": "execute_result"
    }
   ],
   "source": [
    "results[['device_type','georegion','LTV','Upper_CI']]"
   ]
  },
  {
   "cell_type": "code",
   "execution_count": null,
   "metadata": {},
   "outputs": [],
   "source": [
    "# In general The LTV is Low since most of the users are not in do no't purchase\n",
    "# from the results we can find that it is maximum when using iPhone device from Canada and USA\n",
    "# and it is minimum LTV for Players from LatAm (Latin America), ROW (Rest of\n",
    "#Asia, Middle East, Africa, Oceania, island nations, other uncategorized) who uses Android based devices."
   ]
  },
  {
   "cell_type": "code",
   "execution_count": null,
   "metadata": {},
   "outputs": [],
   "source": [
    "# V- Conclusion\n",
    "#The obtained LTV estimate is done using a statistical approach which works well, however, \n",
    "#Machine learning is worth to try and it may result in more accurate estimations. \n",
    "#Considering only two categorical dependent variables is not enough to rely on this estimate and I recommend\n",
    "#to add the time feature as additional dependent variables that can improve the results and obtain more reliable \n",
    "# actionable insights."
   ]
  }
 ],
 "metadata": {
  "kernelspec": {
   "display_name": "Python 3",
   "language": "python",
   "name": "python3"
  },
  "language_info": {
   "codemirror_mode": {
    "name": "ipython",
    "version": 3
   },
   "file_extension": ".py",
   "mimetype": "text/x-python",
   "name": "python",
   "nbconvert_exporter": "python",
   "pygments_lexer": "ipython3",
   "version": "3.7.7"
  }
 },
 "nbformat": 4,
 "nbformat_minor": 4
}
